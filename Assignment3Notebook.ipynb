{
 "cells": [
  {
   "cell_type": "markdown",
   "metadata": {},
   "source": [
    "# Artificial Neural Network - MNIST data"
   ]
  },
  {
   "cell_type": "code",
   "execution_count": 1,
   "metadata": {},
   "outputs": [],
   "source": [
    "import pandas as pd\n",
    "import numpy as np"
   ]
  },
  {
   "cell_type": "code",
   "execution_count": 2,
   "metadata": {},
   "outputs": [],
   "source": [
    "def sigmoid(x):\n",
    "    return 1 / (1 + np.e ** -x)"
   ]
  },
  {
   "cell_type": "code",
   "execution_count": 3,
   "metadata": {},
   "outputs": [],
   "source": [
    "#returns dictionary with weights randomized\n",
    "def create_network(num_inputs,num_hidden,num_outputs):\n",
    "    network = {}\n",
    "    tempnetwork = {}\n",
    "    #make num_hidden weights\n",
    "    for i in range(1,num_hidden+1):\n",
    "        key = \"H\"+str(i)\n",
    "        listOfWeights=[]\n",
    "        #want num_inputs+1 (for bias) weights per hidden node\n",
    "        for j in range(num_inputs+1):\n",
    "            listOfWeights.append(np.random.uniform(-0.05,0.05))\n",
    "        tempnetwork.update({key : listOfWeights})\n",
    "    network.update( {\"hidden\" : tempnetwork })\n",
    "    \n",
    "    tempnetwork = {}\n",
    "    for i in range(1,num_outputs+1):\n",
    "        key = \"O\"+str(i)\n",
    "        listOfWeights=[]\n",
    "        for j in range(num_hidden+1):\n",
    "            listOfWeights.append(np.random.uniform(-0.05,0.05))\n",
    "        tempnetwork.update({key : listOfWeights})\n",
    "    network.update( {\"output\" : tempnetwork })\n",
    "    \n",
    "    return network"
   ]
  },
  {
   "cell_type": "code",
   "execution_count": 4,
   "metadata": {},
   "outputs": [],
   "source": [
    "#returns two things:\n",
    "#1) A list of OutputO's (1 for each output node)\n",
    "#2) A list of outputH's (1 for each hidden node)\n",
    "def propogate_forward(example,network):\n",
    "    Hweights = list(network[\"hidden\"].values())\n",
    "    Oweights = list(network[\"output\"].values())\n",
    "    \n",
    "    inputs = example.tolist()\n",
    "    inputs.insert(0,1)\n",
    "    #find net H1,2,3, ..., H_num_hidden\n",
    "    netH = []\n",
    "    for i in range(0,len(Hweights)):\n",
    "        tempSeries = (pd.Series(Hweights[i]))*(pd.Series(inputs))\n",
    "        netH.append(tempSeries.sum())\n",
    "    #activation function to get outputH1,2,3,...,H_num_hidden\n",
    "    for i in range(len(netH)):\n",
    "        netH[i]=sigmoid(netH[i])\n",
    "    \n",
    "    #Copy netH into another list to be returned as outputH.\n",
    "    outputH=netH[:]\n",
    "    #Add bias node to front of netH list\n",
    "    netH.insert(0,1)\n",
    "\n",
    "    #find net O1,2,3, ... , H_num_outputs\n",
    "    netO=[]\n",
    "    for i in range(0,len(Oweights)):\n",
    "        tempSeries = (pd.Series(Oweights[i]))*(pd.Series(netH))\n",
    "        netO.append(tempSeries.sum())\n",
    "    #activation function to get outputO1,2,..etc\n",
    "    for i in range(len(netO)):\n",
    "        netO[i]=sigmoid(netO[i])\n",
    "\n",
    "    return netO,outputH"
   ]
  },
  {
   "cell_type": "code",
   "execution_count": 5,
   "metadata": {},
   "outputs": [],
   "source": [
    "#takes a single digit 0-9 as input, returns list of [0.01,0.01,...] where index of digit\n",
    "#is replaced by 0.99. For use calculating errors of output layers.\n",
    "def digitToList(num):\n",
    "    tK = [0.01] * 10\n",
    "    tK[num]=0.99\n",
    "    return tK"
   ]
  },
  {
   "cell_type": "code",
   "execution_count": 6,
   "metadata": {},
   "outputs": [],
   "source": [
    "#returns a list of Output node error terms\n",
    "def calc_errors_output(outputOs,target):\n",
    "    deltaOs = []\n",
    "    tK=digitToList(target)\n",
    "    for i in range(len(outputOs)):\n",
    "        deltaOs.append(outputOs[i]*(1-outputOs[i])*(tK[i]-outputOs[i]))\n",
    "        \n",
    "#    Following for testing error:   #\n",
    "#    error=0\n",
    "#    for i in range(len(tK)):\n",
    "#        error+=0.5*((tK[i]-outputOs[i])**2)\n",
    "#    print(\"output error calced, \"+str(error))\n",
    "\n",
    "    return deltaOs"
   ]
  },
  {
   "cell_type": "code",
   "execution_count": 7,
   "metadata": {},
   "outputs": [],
   "source": [
    "#returns a list of Hidden node error terms\n",
    "def calc_errors_hidden(deltaOs,outputHs,network):\n",
    "    Oweights = list(network[\"output\"].values())\n",
    "    deltaHs = []\n",
    "    #for each hidden node\n",
    "    for i in range(len(outputHs)):\n",
    "        sigmaWKH = 0\n",
    "        #for each output node\n",
    "        for j in range(len(deltaOs)):\n",
    "            #sum the weight from output node j to hidden node i multiplied by the corresponding deltaO of output node J\n",
    "            #we use i+1 because Oweights[j][0] is weight of bias node - we want to skip this\n",
    "            sigmaWKH += (Oweights[j][i+1] * deltaOs[j])\n",
    "        #appened value to deltaH according to algorithm\n",
    "        deltaHs.append(outputHs[i]*(1-outputHs[i])*sigmaWKH)\n",
    "    return deltaHs"
   ]
  },
  {
   "cell_type": "code",
   "execution_count": 8,
   "metadata": {},
   "outputs": [],
   "source": [
    "#returns network with updated weights\n",
    "def update_weights(example, network, learning_rate, deltaOs, deltaHs, outputHs):\n",
    "    Hweights = list(network[\"hidden\"].values())\n",
    "    Oweights = list(network[\"output\"].values())\n",
    "    #insert 1 into first index of each for bias nodes\n",
    "    outputHs.insert(0,1)\n",
    "    example = list(example)\n",
    "    example.insert(0,1)\n",
    "    \n",
    "    #iterate through Hidden node weights\n",
    "    for i in range(len(Hweights)):\n",
    "        for j in range(len(Hweights[i])):\n",
    "            #update each weight as per backpropogation algorithm\n",
    "            list(network[\"hidden\"].values())[i][j]= (Hweights[i][j]) + learning_rate * deltaHs[i] * example[j]\n",
    "    #iterate through output node weights        \n",
    "    for i in range(len(Oweights)):\n",
    "        for j in range(len(Oweights[i])):\n",
    "            #update each weight as per backpropogation algorithm\n",
    "            list(network[\"output\"].values())[i][j]= (Oweights[i][j]) + learning_rate * deltaOs[i] * outputHs[j]\n",
    "    \n",
    "    return network"
   ]
  },
  {
   "cell_type": "code",
   "execution_count": 9,
   "metadata": {},
   "outputs": [],
   "source": [
    "#Does entire training algorithm and returns updated network weights as a dictionary\n",
    "def train_network(examples,targets,network,epoch=75,learning_rate=0.005):\n",
    "    print(\"Starting training with Epoch =\",epoch,\", learning rate =\",learning_rate,\"and \",len(examples),\"training examples...\")\n",
    "    for i in range(epoch):\n",
    "        for row in range(len(examples)):\n",
    "            #propogate forward\n",
    "            outputOs, outputHs = propogate_forward(examples.loc[row],network)\n",
    "            #calc errors output\n",
    "            deltaOs=calc_errors_output(outputOs,targets[row])\n",
    "            #calc errors hidden\n",
    "            deltaHs=calc_errors_hidden(deltaOs,outputHs,network)\n",
    "            #update weights\n",
    "            network = update_weights(examples.loc[row],network,learning_rate,deltaOs,deltaHs,outputHs)         \n",
    "    return network"
   ]
  },
  {
   "cell_type": "code",
   "execution_count": 10,
   "metadata": {},
   "outputs": [],
   "source": [
    "#propogates examples forward through network and sets guess to index of max value in output -\n",
    "#which also happens to be the corresponding digit. Prints accordingly.\n",
    "def test(examples,targets,network):\n",
    "    print(\"Starting testing with\",len(examples),\"testing instances...\")\n",
    "    numCorrect=0\n",
    "    numIncorrect=0\n",
    "    \n",
    "    #For each testing instance, propogate forward to get most likely prediction\n",
    "    for row in range(len(examples)):\n",
    "        result=propogate_forward(examples.loc[row],network)        \n",
    "        guess = np.argmax(result[0])\n",
    "        \n",
    "        if(guess==targets[row]):\n",
    "            numCorrect+=1\n",
    "        else:\n",
    "            numIncorrect+=1\n",
    "            \n",
    "    print(\"********************\\n\\n\")\n",
    "    print(\"Number of testing examples:\",len(examples))\n",
    "    print(\"Number correctly predicted:\",numCorrect)\n",
    "    print(\"Number incorrectly predicted:\",numIncorrect)\n",
    "    print(\"Accuracy:\",(numCorrect/(numCorrect+numIncorrect))*100,\"%\")\n",
    "    print(\"\\n\\n********************\")"
   ]
  },
  {
   "cell_type": "code",
   "execution_count": 11,
   "metadata": {},
   "outputs": [
    {
     "name": "stdout",
     "output_type": "stream",
     "text": [
      "Starting training with Epoch = 50 , learning rate = 0.005 and  500 training examples...\n",
      "Starting testing with 10000 testing instances...\n",
      "********************\n",
      "\n",
      "\n",
      "Number of testing examples: 10000\n",
      "Number correctly predicted: 1796\n",
      "Number incorrectly predicted: 8204\n",
      "Accuracy: 17.96 %\n",
      "\n",
      "\n",
      "********************\n"
     ]
    }
   ],
   "source": [
    "#read csv files into pandas dataframes\n",
    "train_df_start = pd.read_csv(\"assets/training60000.csv\", header=None)\n",
    "train_labels_start = pd.read_csv(\"assets/training60000_labels.csv\", header=None)\n",
    "test_df = pd.read_csv(\"assets/testing10000.csv\", header=None)\n",
    "test_labels = pd.read_csv(\"assets/testing10000_labels.csv\", header=None)\n",
    "\n",
    "#use only first X rows of training dataframe\n",
    "train_df = train_df_start.iloc[:500]\n",
    "train_labels = train_labels_start.iloc[:500]\n",
    "\n",
    "#convert labels to series instead of dataframe\n",
    "train_labels = train_labels.iloc[:,0]\n",
    "test_labels = test_labels.iloc[:,0]\n",
    "\n",
    "#create a network with random weights - 784 inputs, 16 hidden nodes, 10 outputs\n",
    "testing_network = create_network(784,16,10)\n",
    "#train this network on 5000 training instances\n",
    "trained_network = train_network(train_df,train_labels,testing_network,50,0.005)\n",
    "#test updated network on 10000 testing instances\n",
    "test(test_df,test_labels,trained_network)"
   ]
  }
 ],
 "metadata": {
  "kernelspec": {
   "display_name": "Python 3",
   "language": "python",
   "name": "python3"
  },
  "language_info": {
   "codemirror_mode": {
    "name": "ipython",
    "version": 3
   },
   "file_extension": ".py",
   "mimetype": "text/x-python",
   "name": "python",
   "nbconvert_exporter": "python",
   "pygments_lexer": "ipython3",
   "version": "3.7.2"
  }
 },
 "nbformat": 4,
 "nbformat_minor": 2
}
